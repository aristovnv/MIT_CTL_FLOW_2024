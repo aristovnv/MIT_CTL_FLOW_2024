{
 "cells": [
  {
   "cell_type": "code",
   "execution_count": 5,
   "id": "1cf6e324-d24c-4b21-8ff2-50f71e316a1d",
   "metadata": {},
   "outputs": [
    {
     "name": "stdout",
     "output_type": "stream",
     "text": [
      "Boston\n",
      "NY\n",
      "Portland_Me\n",
      "Norfolk\n",
      "Savanna\n",
      "Baltimor\n"
     ]
    }
   ],
   "source": [
    "import Constants as con\n",
    "import PortStats as ps\n",
    "import pandas as pd\n",
    "import os\n",
    "\n",
    "for harbour in con.portsList: \n",
    "    print(harbour)\n",
    "    "
   ]
  },
  {
   "cell_type": "code",
   "execution_count": null,
   "id": "29b636b6-35fa-4f6b-9c9e-adf1c888afbf",
   "metadata": {},
   "outputs": [],
   "source": []
  }
 ],
 "metadata": {
  "kernelspec": {
   "display_name": "Python 3 (ipykernel)",
   "language": "python",
   "name": "python3"
  },
  "language_info": {
   "codemirror_mode": {
    "name": "ipython",
    "version": 3
   },
   "file_extension": ".py",
   "mimetype": "text/x-python",
   "name": "python",
   "nbconvert_exporter": "python",
   "pygments_lexer": "ipython3",
   "version": "3.8.15"
  }
 },
 "nbformat": 4,
 "nbformat_minor": 5
}
